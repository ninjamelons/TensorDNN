{
 "cells": [
  {
   "cell_type": "code",
   "execution_count": 1,
   "metadata": {},
   "outputs": [
    {
     "name": "stderr",
     "output_type": "stream",
     "text": [
      "Using TensorFlow backend.\n"
     ]
    },
    {
     "data": {
      "text/plain": [
       "'2.2.4'"
      ]
     },
     "execution_count": 1,
     "metadata": {},
     "output_type": "execute_result"
    }
   ],
   "source": [
    "import time\n",
    "import os\n",
    "\n",
    "import numpy as np\n",
    "import pandas as pd\n",
    "import keras\n",
    "from keras import layers\n",
    "from keras.models import Sequential\n",
    "from keras.preprocessing.text import Tokenizer\n",
    "from keras.preprocessing.sequence import pad_sequences\n",
    "from sklearn.feature_extraction.text import CountVectorizer\n",
    "from sklearn.model_selection import train_test_split\n",
    "keras.__version__"
   ]
  },
  {
   "cell_type": "code",
   "execution_count": 2,
   "metadata": {},
   "outputs": [],
   "source": [
    "max_words = 100000\n",
    "max_len = 500\n",
    "embedding_dim = 50\n",
    "lstm_out = 200"
   ]
  },
  {
   "cell_type": "code",
   "execution_count": 3,
   "metadata": {},
   "outputs": [],
   "source": [
    "file_train = 'batched3.json'\n",
    "\n",
    "df_source = pd.read_json(file_train)\n",
    "text = df_source['text'].values\n",
    "df_source['label'] = df_source['categories'].apply(lambda x: x[0])\n",
    "y = df_source['label'].values\n",
    "\n",
    "sentences_train, sentences_test, categories_train, categories_test = train_test_split(text, y, test_size=0.25, random_state=1000)"
   ]
  },
  {
   "cell_type": "code",
   "execution_count": 4,
   "metadata": {
    "scrolled": true
   },
   "outputs": [],
   "source": [
    "tokenizer = Tokenizer(num_words=100000)\n",
    "vectorizer_categories = CountVectorizer()\n",
    "tokenizer.fit_on_texts(sentences_train)\n",
    "vectorizer_categories.fit(categories_train)\n",
    "\n",
    "X_train = tokenizer.texts_to_sequences(sentences_train)\n",
    "X_test = tokenizer.texts_to_sequences(sentences_test)\n",
    "y_train = vectorizer_categories.transform(categories_train)\n",
    "y_test = vectorizer_categories.transform(categories_test)\n",
    "\n",
    "vocab_size = len(tokenizer.word_index) + 1\n",
    "\n",
    "X_train = pad_sequences(X_train, padding='post', maxlen=max_len)\n",
    "X_test = pad_sequences(X_test, padding='post', maxlen=max_len)"
   ]
  },
  {
   "cell_type": "code",
   "execution_count": 5,
   "metadata": {},
   "outputs": [
    {
     "data": {
      "text/plain": [
       "(12312, 500)"
      ]
     },
     "execution_count": 5,
     "metadata": {},
     "output_type": "execute_result"
    }
   ],
   "source": [
    "X_train.shape"
   ]
  },
  {
   "cell_type": "code",
   "execution_count": 27,
   "metadata": {},
   "outputs": [
    {
     "name": "stdout",
     "output_type": "stream",
     "text": [
      "_________________________________________________________________\n",
      "Layer (type)                 Output Shape              Param #   \n",
      "=================================================================\n",
      "embedding_1 (Embedding)      (None, 500, 50)           6563600   \n",
      "_________________________________________________________________\n",
      "lstm_1 (LSTM)                (None, 500, 200)          200800    \n",
      "_________________________________________________________________\n",
      "lstm_2 (LSTM)                (None, 200)               320800    \n",
      "_________________________________________________________________\n",
      "dense_1 (Dense)              (None, 3)                 603       \n",
      "=================================================================\n",
      "Total params: 7,085,803\n",
      "Trainable params: 7,085,803\n",
      "Non-trainable params: 0\n",
      "_________________________________________________________________\n"
     ]
    }
   ],
   "source": [
    "keras.backend.clear_session()\n",
    "\n",
    "model = Sequential()\n",
    "model.add(layers.Embedding(input_dim=vocab_size,\n",
    "                          output_dim=embedding_dim,\n",
    "                          input_length=max_len))\n",
    "#model.add(layers.Flatten())\n",
    "#model.add(layers.GlobalMaxPool1D())\n",
    "model.add(layers.LSTM(lstm_out, return_sequences=True, activation='softmax'))\n",
    "model.add(layers.LSTM(lstm_out))\n",
    "#model.add(layers.Dense(10, activation='relu'))\n",
    "model.add(layers.Dense(3, activation='relu'))\n",
    "model.compile(loss='kullback_leibler_divergence',\n",
    "             optimizer='adam',\n",
    "             metrics=['accuracy'])\n",
    "model.summary()"
   ]
  },
  {
   "cell_type": "code",
   "execution_count": 28,
   "metadata": {},
   "outputs": [
    {
     "data": {
      "text/plain": [
       "[<tf.Tensor 'embedding_1_input:0' shape=(?, 500) dtype=float32>]"
      ]
     },
     "execution_count": 28,
     "metadata": {},
     "output_type": "execute_result"
    }
   ],
   "source": [
    "model.inputs"
   ]
  },
  {
   "cell_type": "code",
   "execution_count": null,
   "metadata": {
    "scrolled": true
   },
   "outputs": [
    {
     "name": "stdout",
     "output_type": "stream",
     "text": [
      "Train on 12312 samples, validate on 4105 samples\n",
      "Epoch 1/5\n",
      " 4960/12312 [===========>..................] - ETA: 6:06 - loss: 10.0100 - acc: 0.3831"
     ]
    }
   ],
   "source": [
    "history = model.fit(X_train, y_train,\n",
    "                   epochs=5,\n",
    "                   validation_data=(X_test, y_test))"
   ]
  },
  {
   "cell_type": "code",
   "execution_count": 12,
   "metadata": {},
   "outputs": [],
   "source": [
    "import matplotlib.pyplot as plt\n",
    "plt.style.use('ggplot')\n",
    "\n",
    "def plot_history(history):\n",
    "    acc = history.history['acc']\n",
    "    val_acc = history.history['val_acc']\n",
    "    loss = history.history['loss']\n",
    "    val_loss = history.history['val_loss']\n",
    "    x = range(1, len(acc) + 1)\n",
    "\n",
    "    plt.figure(figsize=(12, 5))\n",
    "    plt.subplot(1, 2, 1)\n",
    "    plt.plot(x, acc, 'b', label='Training acc')\n",
    "    plt.plot(x, val_acc, 'r', label='Validation acc')\n",
    "    plt.title('Training and validation accuracy')\n",
    "    plt.legend()\n",
    "    plt.subplot(1, 2, 2)\n",
    "    plt.plot(x, loss, 'b', label='Training loss')\n",
    "    plt.plot(x, val_loss, 'r', label='Validation loss')\n",
    "    plt.title('Training and validation loss')\n",
    "    plt.legend()"
   ]
  },
  {
   "cell_type": "code",
   "execution_count": 13,
   "metadata": {},
   "outputs": [
    {
     "name": "stdout",
     "output_type": "stream",
     "text": [
      "12312/12312 [==============================] - 124s 10ms/step\n",
      "Training Accuracy: 0.3830\n",
      "4105/4105 [==============================] - 42s 10ms/step\n",
      "Testing Accuracy:  0.3851\n"
     ]
    }
   ],
   "source": [
    "loss, accuracy = model.evaluate(X_train, y_train)\n",
    "print(\"Training Accuracy: {:.4f}\".format(accuracy))\n",
    "loss, accuracy = model.evaluate(X_test, y_test)\n",
    "print(\"Testing Accuracy:  {:.4f}\".format(accuracy))"
   ]
  },
  {
   "cell_type": "code",
   "execution_count": 17,
   "metadata": {},
   "outputs": [
    {
     "data": {
      "image/png": "[encoded data removed]",
      "text/plain": [
       "<Figure size 864x360 with 2 Axes>"
      ]
     },
     "metadata": {
      "needs_background": "light"
     },
     "output_type": "display_data"
    }
   ],
   "source": [
    "plot_history(model.history)"
   ]
  },
  {
   "cell_type": "code",
   "execution_count": null,
   "metadata": {},
   "outputs": [],
   "source": [
    "df_test = pd.read_csv(data_dir + 'test_twitter_data.csv')\n",
    "test = df_test['features'].values\n",
    "test_twitter = tokenizer.texts_to_sequences(test)\n",
    "test_twitter = pad_sequences(test_twitter, padding='post', maxlen=max_len)\n",
    "\n",
    "test_one_twitter = tokenizer.texts_to_sequences([test[1]])\n",
    "test_one_twitter = pad_sequences(test_one_twitter, padding='post', maxlen=max_len)\n",
    "\n",
    "test_one_news = tokenizer.texts_to_sequences([\"The legal action, filed in New York's Southern District, is against Deutsche Bank, one of Trump's lenders, and Capital One. Both banks \\\"have long provided business and personal banking services to Plaintiffs,\\\" Trump's attorneys said.\\\"The subpoenas were issued to harass President Donald J. Trump, to rummage through every aspect of his personal finances, his businesses, and the private information of the President and his family, and to ferret about for any material that might be used to cause him political damage. No grounds exist to establish any purpose other than a political one,\\\" Trump's attorneys wrote in the complaint filed late Monday.\"])\n",
    "test_one_news = pad_sequences(test_one_news, padding='post', maxlen=max_len)\n",
    "\n",
    "test_one_reddit = tokenizer.texts_to_sequences([\"I paid a friend of mine some money to draw me a skin for Mercy I've always wanted. Yes, I know she's Swiss. No, I don't care. I wish it was a skin in game so I could ALWAYS USE IT. And against my better judgement I've posted it here to show off how good my friends art is. I hope y'all enjoy it, and if you don't, that's okay too ♥ Edit: She replied! https://www.instagram.com/jenv_arts/ and https://twitter.com/jenv_arts Enjoy everyone!\"])\n",
    "test_one_reddit = pad_sequences(test_one_reddit, padding='post', maxlen=max_len)\n",
    "\n",
    "test_one_random = tokenizer.texts_to_sequences([\"They dont need a product I've said it countless times there are groups that are just writing a report about analysing a data set using the exact same process we did in class Our product would be the code that cleaned and processed the data, the code that collected it, and hopefully if achievable the tensorflow program that trains a model to do something\"])\n",
    "test_one_random = pad_sequences(test_one_random, padding='post', maxlen=max_len)"
   ]
  },
  {
   "cell_type": "code",
   "execution_count": null,
   "metadata": {},
   "outputs": [],
   "source": [
    "vectorizer_categories.vocabulary_"
   ]
  },
  {
   "cell_type": "code",
   "execution_count": null,
   "metadata": {},
   "outputs": [],
   "source": [
    "prediction = model.predict(test_twitter)\n",
    "i = 0\n",
    "j = 0\n",
    "for x in np.round(prediction, decimals=3):\n",
    "    i = i + 1\n",
    "    print(i)\n",
    "    if x[2] < 0.80:\n",
    "        j = j + 1\n",
    "        print(\"[DING DONG]x\" + str(j))\n",
    "    print(\"News: \" + str(np.format_float_positional(x[0], pad_right=3)) + \" | Reddit: \" + str(np.format_float_positional(x[1], pad_right=3)) + \" | Twitter: \" + str(np.format_float_positional(x[2], pad_right=3)) + \"\\n\")"
   ]
  },
  {
   "cell_type": "code",
   "execution_count": null,
   "metadata": {
    "scrolled": false
   },
   "outputs": [],
   "source": [
    "prediction = model.predict(test_one_twitter)\n",
    "for x in np.round(prediction, decimals=3):\n",
    "    print(\"News: \" + str(np.format_float_positional(x[0], pad_right=3)) + \" | Reddit: \" + str(np.format_float_positional(x[1], pad_right=3)) + \" | Twitter: \" + str(np.format_float_positional(x[2], pad_right=3)) + \"\\n\")"
   ]
  },
  {
   "cell_type": "code",
   "execution_count": null,
   "metadata": {},
   "outputs": [],
   "source": [
    "prediction = model.predict(test_one_news)\n",
    "for x in np.round(prediction, decimals=3):\n",
    "    print(\"News: \" + str(np.format_float_positional(x[0], pad_right=3)) + \" | Reddit: \" + str(np.format_float_positional(x[1], pad_right=3)) + \" | Twitter: \" + str(np.format_float_positional(x[2], pad_right=3)) + \"\\n\")"
   ]
  },
  {
   "cell_type": "code",
   "execution_count": null,
   "metadata": {},
   "outputs": [],
   "source": [
    "prediction = model.predict(test_one_reddit)\n",
    "for x in np.round(prediction, decimals=3):\n",
    "    print(\"News: \" + str(np.format_float_positional(x[0], pad_right=3)) + \" | Reddit: \" + str(np.format_float_positional(x[1], pad_right=3)) + \" | Twitter: \" + str(np.format_float_positional(x[2], pad_right=3)) + \"\\n\")"
   ]
  },
  {
   "cell_type": "code",
   "execution_count": null,
   "metadata": {},
   "outputs": [],
   "source": [
    "prediction = model.predict(test_one_random)\n",
    "for x in np.round(prediction, decimals=3):\n",
    "    print(\"News: \" + str(np.format_float_positional(x[0], pad_right=3)) + \" | Reddit: \" + str(np.format_float_positional(x[1], pad_right=3)) + \" | Twitter: \" + str(np.format_float_positional(x[2], pad_right=3)) + \"\\n\")"
   ]
  }
 ],
 "metadata": {
  "kernelspec": {
   "display_name": "Python 3",
   "language": "python",
   "name": "python3"
  },
  "language_info": {
   "codemirror_mode": {
    "name": "ipython",
    "version": 3
   },
   "file_extension": ".py",
   "mimetype": "text/x-python",
   "name": "python",
   "nbconvert_exporter": "python",
   "pygments_lexer": "ipython3",
   "version": "3.7.1"
  }
 },
 "nbformat": 4,
 "nbformat_minor": 2
}
